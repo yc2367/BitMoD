{
 "cells": [
  {
   "cell_type": "code",
   "execution_count": 1,
   "id": "f0c0c606",
   "metadata": {},
   "outputs": [],
   "source": [
    "import pandas as pd\n",
    "import numpy as np\n",
    "import pickle\n",
    "from matplotlib import pyplot as plt\n",
    "from matplotlib.patches import ArrowStyle, Rectangle"
   ]
  },
  {
   "cell_type": "code",
   "execution_count": 2,
   "id": "2af26db1",
   "metadata": {},
   "outputs": [],
   "source": [
    "model_name = [\"OPT-1.3B\", \"Phi-2B\", \"Yi-6B\", \"Llama-2-7B\", \"Llama-2-13B\", \"Llama-3-8B\"]\n",
    "model_name_dict = {\n",
    "    \"OPT-1.3B\": \"opt_1_point_3\", \n",
    "    \"Phi-2B\": \"phi_2\",\n",
    "    \"Yi-6B\": \"yi_6\",\n",
    "    \"Llama-2-7B\": \"llama_2_7\", \n",
    "    \"Llama-2-13B\": \"llama_2_13\", \n",
    "    \"Llama-3-8B\": \"llama_3_8\", \n",
    "}"
   ]
  },
  {
   "cell_type": "code",
   "execution_count": 3,
   "id": "678782fb",
   "metadata": {},
   "outputs": [],
   "source": [
    "model_error_list = np.zeros((6, len(model_name)))\n",
    "model_size_list = np.zeros((6, len(model_name)))\n",
    "\n",
    "base_path = './model_fp3_sv_profile'\n",
    "for idx, name in enumerate(model_name):\n",
    "    for jdx, outlier in enumerate([5, 6, 7, 8, 9, 0]):\n",
    "        file_path = f'{base_path}/{model_name_dict[name]}_outlier_{outlier}.pickle'\n",
    "        with open(file_path, 'rb') as f:\n",
    "            model_size_config, model_error_config = pickle.load(f)\n",
    "            \n",
    "        total_error   = 0\n",
    "        total_element = 0\n",
    "        for layer_name in model_size_config.keys():\n",
    "            total_error += model_error_config[layer_name]\n",
    "            total_element += model_size_config[layer_name]\n",
    "    \n",
    "        model_error_list[jdx, idx] = total_error\n",
    "        model_size_list[jdx, idx] = total_element\n",
    "\n",
    "norm_error_list = model_error_list / np.min(model_error_list, axis=0)"
   ]
  },
  {
   "cell_type": "markdown",
   "id": "ef57ebdd",
   "metadata": {},
   "source": [
    "## Normalized Range and Maximum Value"
   ]
  },
  {
   "cell_type": "code",
   "execution_count": 4,
   "id": "334c4759",
   "metadata": {},
   "outputs": [],
   "source": [
    "linestyle   = 'solid'\n",
    "alpha       = 1\n",
    "tick_size   = 10\n",
    "ylabel_size = 10.5\n",
    "xlabel_size = 9.5\n",
    "legend_size = 9.\n",
    "title_size  = 10\n",
    "text_size   = 8\n",
    "\n",
    "# bar setting\n",
    "width      = 0.016  # the width of each bar\n",
    "edgewidth  = 0.8 # the edge width of each bar\n",
    "hatchwidth = 0.5 # the edge width of each bar\n",
    "spacing    = 0.14 # spacing between each model bar\n",
    "distance   = 0.006  # spacing between every two bars of the same model\n",
    "\n",
    "x          = np.arange(len(model_name))*spacing # the label locations"
   ]
  },
  {
   "cell_type": "code",
   "execution_count": 6,
   "id": "7f9fe4c1",
   "metadata": {},
   "outputs": [
    {
     "data": {
      "image/png": "[encoded data removed]",
      "text/plain": [
       "<Figure size 600x230 with 1 Axes>"
      ]
     },
     "metadata": {},
     "output_type": "display_data"
    }
   ],
   "source": [
    "figwidth    = 6\n",
    "figheight   = 2.3\n",
    "\n",
    "y_title_pad = 0\n",
    "title_yloc  = 0.89\n",
    "rotation = 0\n",
    "x_margin = 0.03\n",
    "\n",
    "############# Arrow Style #############\n",
    "arrowstyle = ArrowStyle.CurveB(head_length=0.4, head_width=0.2, widthA=0.2, widthB=1.0, lengthA=0., lengthB=0., angleA=0, angleB=0, scaleA=None, scaleB=None)\n",
    "arrowstyle._beginarrow_head = False\n",
    "arrowstyle._beginarrow_bracket = True\n",
    "#######################################\n",
    "\n",
    "f, ax = plt.subplots(1, 1)\n",
    "f.set_figwidth(figwidth)\n",
    "f.set_figheight(figheight)\n",
    "f.tight_layout(pad=1)\n",
    "\n",
    "f_list = [i for i in range(6)]\n",
    "color_list = ['#e2eafc', '#b6ccfe', '#6baed6', '#3182bd', '#08519c', 'gray']\n",
    "alpha_list = [1, 1, 1, 1, 1, 1]\n",
    "xlabels = ['OPT-1.3B', 'Phi-2B', 'Yi-6B', 'Llama-2\\n7B', 'Llama-2\\n13B', 'Llama-3\\n8B']\n",
    "\n",
    "for j_tmp in range(-3, 3):\n",
    "    j = j_tmp + 3\n",
    "    f_list[j] = ax.bar(x + j_tmp*width + distance*j_tmp/2, norm_error_list[j], \n",
    "                          width, color='white')\n",
    "    f_list[j] = ax.bar(x + j_tmp*width + distance*j_tmp/2, norm_error_list[j], \n",
    "                          width, color=color_list[j], alpha=alpha_list[j], edgecolor='black', linewidth=0.15)\n",
    "\n",
    "ax.set_xmargin(x_margin)\n",
    "\n",
    "y_low = 0.9\n",
    "y_up  = 1.4 + 0.001\n",
    "ax.set_ylim(y_low, y_up)\n",
    "ax.set_yticks(np.arange(y_low, y_up, 0.1))\n",
    "\n",
    "ax.set_xticks(x - 0.5*width, )\n",
    "ax.set_xticklabels(xlabels, rotation=rotation)\n",
    "ax.tick_params(axis='y', which='major', labelsize=tick_size, length=3)\n",
    "ax.tick_params(axis='x', which='major', labelsize=xlabel_size, pad=5, length=0)\n",
    "\n",
    "ax.set_ylabel('Norm. Quant Error', fontsize=ylabel_size, labelpad=4)\n",
    "\n",
    "ax.set_axisbelow(True)\n",
    "ax.grid(True, linestyle='dashed', axis='y', zorder=1000, color='darkgrey', linewidth=0.7)\n",
    "\n",
    "leg = f.legend(f_list, ['SV' + r'$ = \\pm$' + str(i) for i in range(5, 10)] + ['No SV'], \n",
    "        loc='upper center', bbox_to_anchor=[0.54, 1.1], \n",
    "        fontsize=legend_size, ncol=6, columnspacing=1.5, frameon=True, edgecolor='grey', handlelength=1, handleheight=1, handletextpad=0.4)\n",
    "leg.get_frame().set_linewidth(0.75)\n",
    "\n",
    "plt.tight_layout(h_pad=0, w_pad=0.8)\n",
    "f.savefig('fp3_sv.svg', transparent=True, bbox_inches = 'tight', format='svg', dpi=200, pad_inches=0.1)\n"
   ]
  },
  {
   "cell_type": "code",
   "execution_count": null,
   "id": "a950b685",
   "metadata": {},
   "outputs": [],
   "source": []
  },
  {
   "cell_type": "code",
   "execution_count": null,
   "id": "b6710aa3",
   "metadata": {},
   "outputs": [],
   "source": []
  }
 ],
 "metadata": {
  "kernelspec": {
   "display_name": "Python 3 (ipykernel)",
   "language": "python",
   "name": "python3"
  },
  "language_info": {
   "codemirror_mode": {
    "name": "ipython",
    "version": 3
   },
   "file_extension": ".py",
   "mimetype": "text/x-python",
   "name": "python",
   "nbconvert_exporter": "python",
   "pygments_lexer": "ipython3",
   "version": "3.9.5"
  }
 },
 "nbformat": 4,
 "nbformat_minor": 5
}
